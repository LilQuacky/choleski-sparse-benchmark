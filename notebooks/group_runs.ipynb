{
 "cells": [
  {
   "metadata": {},
   "cell_type": "markdown",
   "source": [
    "### Importing Libraries and Modules\n",
    "\n",
    "The cell imports several essential Python libraries for data analysis and visualization:\n",
    "\n",
    "- `os`: A module to use Operative System functionalities\n",
    "- `pandas`: A powerful data manipulation and analysis library providing data structures and operations for manipulating numerical tables and time series.\n",
    "- `defaultdict`: Dict constructor, used to instantiate a dictionary of specified time\n",
    "- `datetime`: Module to get current timestamp."
   ],
   "id": "861c9cc110bb5e68"
  },
  {
   "cell_type": "code",
   "id": "28a58566e367128e",
   "metadata": {
    "collapsed": true,
    "ExecuteTime": {
     "end_time": "2025-06-09T13:43:28.054930Z",
     "start_time": "2025-06-09T13:43:28.050509Z"
    }
   },
   "source": [
    "import os\n",
    "import pandas as pd\n",
    "from collections import defaultdict\n",
    "from datetime import datetime"
   ],
   "outputs": [],
   "execution_count": 5
  },
  {
   "metadata": {},
   "cell_type": "markdown",
   "source": [
    "### Settings\n",
    "\n",
    "- `input_folder`: Folder containing origial .csv files.\n",
    "- `output_folder`: Folder to save files to.\n",
    "- `groups`: File to group.\n",
    "- `columns_to_average`: Columns of csv files to calculate the mean on."
   ],
   "id": "50725df872448887"
  },
  {
   "metadata": {
    "ExecuteTime": {
     "end_time": "2025-06-09T13:43:28.063318Z",
     "start_time": "2025-06-09T13:43:28.055967Z"
    }
   },
   "cell_type": "code",
   "source": [
    "input_folder = '../runs/'\n",
    "output_folder = '../runs_mean/'\n",
    "\n",
    "groups = ['linux_matlab', 'linux_python', 'windows_matlab', 'windows_python']\n",
    "\n",
    "columns_to_average = [\n",
    "    'loadTime', 'loadMem', 'decompTime', 'decompMem',\n",
    "    'solveTime', 'solveMem', 'relativeError'\n",
    "]"
   ],
   "id": "8a9b523353ae66d4",
   "outputs": [],
   "execution_count": 6
  },
  {
   "metadata": {},
   "cell_type": "markdown",
   "source": [
    "### Reading data from files\n",
    "\n",
    "This section of code is needed to save the logs into dataframes.\n",
    "For each file a dataframe is created and saved according to its group. "
   ],
   "id": "2680286366cf09d7"
  },
  {
   "metadata": {
    "ExecuteTime": {
     "end_time": "2025-06-09T13:43:28.097391Z",
     "start_time": "2025-06-09T13:43:28.064833Z"
    }
   },
   "cell_type": "code",
   "source": [
    "group_data = defaultdict(list)\n",
    "\n",
    "for filename in os.listdir(input_folder):\n",
    "    if filename.endswith('.csv'):\n",
    "        for group in groups:\n",
    "            if filename.startswith(group):\n",
    "                file_path = os.path.join(input_folder, filename)\n",
    "                try:\n",
    "                    df = pd.read_csv(file_path)\n",
    "                    group_data[group].append(df)\n",
    "                except Exception as e:\n",
    "                    print(f\"Error in file {filename}: {e}\")\n",
    "                break\n",
    "                \n",
    "os.makedirs(output_folder, exist_ok=True)"
   ],
   "id": "42e920c137081522",
   "outputs": [],
   "execution_count": 7
  },
  {
   "metadata": {},
   "cell_type": "markdown",
   "source": [
    "### Calculating mean\n",
    "\n",
    "For each group, necessary columns are extracted and mean is calculated.\n",
    "The other columns are simply copied from one arbitrary file to the final one."
   ],
   "id": "776114b4cd0786ba"
  },
  {
   "metadata": {
    "ExecuteTime": {
     "end_time": "2025-06-09T13:43:28.142743Z",
     "start_time": "2025-06-09T13:43:28.098418Z"
    }
   },
   "cell_type": "code",
   "source": [
    "for group, dfs in group_data.items():\n",
    "    if not dfs:\n",
    "        print(f\"No files found for {group}\")\n",
    "        continue\n",
    "\n",
    "    # Mean between necessary columns\n",
    "    try:\n",
    "        numeric_dfs = [df[columns_to_average].apply(pd.to_numeric, errors='coerce') for df in dfs]\n",
    "        mean_df = sum(numeric_dfs) / len(numeric_dfs)\n",
    "    except Exception as e:\n",
    "        print(f\"Error while calculating mean for group {group}: {e}\")\n",
    "        continue\n",
    "\n",
    "    # Copy non necessary columns\n",
    "    non_avg_columns = [col for col in dfs[0].columns if col not in columns_to_average]\n",
    "    static_part = dfs[0][non_avg_columns].copy()\n",
    "\n",
    "    # Building final dataframe\n",
    "    final_df = pd.concat([static_part.reset_index(drop=True), mean_df.reset_index(drop=True)], axis=1)\n",
    "    \n",
    "    # Saving dataframe\n",
    "    output_file = os.path.join(output_folder, f\"mean_{group}_\" + datetime.now().strftime(\"%y-%m-%d_%H-%M-%S\") +\".csv\")\n",
    "    final_df.to_csv(output_file, index=False)\n",
    "    print(f\"Created: {output_file}\")\n"
   ],
   "id": "initial_id",
   "outputs": [
    {
     "name": "stdout",
     "output_type": "stream",
     "text": [
      "Created: ../runs_mean/mean_linux_matlab_25-06-09_15-43-28.csv\n",
      "Created: ../runs_mean/mean_linux_python_25-06-09_15-43-28.csv\n",
      "Created: ../runs_mean/mean_windows_matlab_25-06-09_15-43-28.csv\n",
      "Created: ../runs_mean/mean_windows_python_25-06-09_15-43-28.csv\n"
     ]
    }
   ],
   "execution_count": 8
  }
 ],
 "metadata": {
  "kernelspec": {
   "display_name": "Python 3",
   "language": "python",
   "name": "python3"
  },
  "language_info": {
   "codemirror_mode": {
    "name": "ipython",
    "version": 2
   },
   "file_extension": ".py",
   "mimetype": "text/x-python",
   "name": "python",
   "nbconvert_exporter": "python",
   "pygments_lexer": "ipython2",
   "version": "2.7.6"
  }
 },
 "nbformat": 4,
 "nbformat_minor": 5
}
